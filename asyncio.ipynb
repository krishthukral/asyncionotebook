{
 "cells": [
  {
   "cell_type": "code",
   "execution_count": 34,
   "metadata": {},
   "outputs": [
    {
     "name": "stdout",
     "output_type": "stream",
     "text": [
      "Requirement already satisfied: aiohttp in /Users/krishthukral/miniconda3/lib/python3.9/site-packages (3.8.1)\n",
      "Requirement already satisfied: frozenlist>=1.1.1 in /Users/krishthukral/miniconda3/lib/python3.9/site-packages (from aiohttp) (1.3.1)\n",
      "Requirement already satisfied: async-timeout<5.0,>=4.0.0a3 in /Users/krishthukral/miniconda3/lib/python3.9/site-packages (from aiohttp) (4.0.2)\n",
      "Requirement already satisfied: charset-normalizer<3.0,>=2.0 in /Users/krishthukral/miniconda3/lib/python3.9/site-packages (from aiohttp) (2.0.12)\n",
      "Requirement already satisfied: yarl<2.0,>=1.0 in /Users/krishthukral/miniconda3/lib/python3.9/site-packages (from aiohttp) (1.8.1)\n",
      "Requirement already satisfied: aiosignal>=1.1.2 in /Users/krishthukral/miniconda3/lib/python3.9/site-packages (from aiohttp) (1.2.0)\n",
      "Requirement already satisfied: multidict<7.0,>=4.5 in /Users/krishthukral/miniconda3/lib/python3.9/site-packages (from aiohttp) (6.0.2)\n",
      "Requirement already satisfied: attrs>=17.3.0 in /Users/krishthukral/miniconda3/lib/python3.9/site-packages (from aiohttp) (21.4.0)\n",
      "Requirement already satisfied: idna>=2.0 in /Users/krishthukral/miniconda3/lib/python3.9/site-packages (from yarl<2.0,>=1.0->aiohttp) (3.3)\n"
     ]
    }
   ],
   "source": [
    "import requests\n",
    "import os\n",
    "import time\n",
    "import asyncio\n",
    "! pip3 install aiohttp\n",
    "import aiohttp"
   ]
  },
  {
   "cell_type": "code",
   "execution_count": 35,
   "metadata": {},
   "outputs": [
    {
     "name": "stdout",
     "output_type": "stream",
     "text": [
      "Working on symbol AAPL\n",
      "Working on symbol GOOG\n",
      "Working on symbol TSLA\n",
      "Working on symbol MSFT\n",
      "Working on symbol AAPL\n",
      "Working on symbol GOOG\n",
      "Working on symbol TSLA\n",
      "Working on symbol MSFT\n",
      "Working on symbol AAPL\n",
      "Working on symbol MSFT\n",
      "Working on symbol AAPL\n",
      "Working on symbol GOOG\n",
      "Working on symbol TSLA\n",
      "Working on symbol MSFT\n",
      "Working on symbol AAPL\n",
      "Time taken: 2.2200119495391846\n",
      "you did it\n"
     ]
    }
   ],
   "source": [
    "api_key = os.environ.get(\"ALPHAVANTAGE_API_KEY\")\n",
    "url = 'https://www.alphavantage.co/query?function=OVERVIEW&symbol={}&apikey={}'\n",
    "symbols = ['AAPL', 'GOOG', 'TSLA', 'MSFT', 'AAPL', 'GOOG', 'TSLA', 'MSFT', 'AAPL','MSFT', 'AAPL', 'GOOG', 'TSLA', 'MSFT', 'AAPL']\n",
    "start = time.time()\n",
    "for symbol in symbols:\n",
    "    print('Working on symbol {}'.format(symbol))\n",
    "    response = requests.get(url.format(symbol, api_key))\n",
    "end = time.time()\n",
    "print('Time taken: {}'.format(end - start))\n",
    "print(\"you did it\")   "
   ]
  },
  {
   "cell_type": "code",
   "execution_count": 36,
   "metadata": {},
   "outputs": [
    {
     "name": "stdout",
     "output_type": "stream",
     "text": [
      "Working on symbol AAPL\n",
      "Working on symbol GOOG\n",
      "Working on symbol TSLA\n",
      "Working on symbol MSFT\n",
      "Working on symbol AAPL\n",
      "Working on symbol GOOG\n",
      "Working on symbol TSLA\n",
      "Working on symbol MSFT\n",
      "Working on symbol AAPL\n",
      "Working on symbol MSFT\n",
      "Working on symbol AAPL\n",
      "Working on symbol GOOG\n",
      "Working on symbol TSLA\n",
      "Working on symbol MSFT\n",
      "Working on symbol AAPL\n",
      "you did it\n"
     ]
    }
   ],
   "source": [
    "api_key = os.environ.get(\"ALPHAVANTAGE_API_KEY\")\n",
    "url = 'https://www.alphavantage.co/query?function=OVERVIEW&symbol={}&apikey={}'\n",
    "symbols = ['AAPL', 'GOOG', 'TSLA', 'MSFT', 'AAPL', 'GOOG', 'TSLA', 'MSFT', 'AAPL','MSFT', 'AAPL', 'GOOG', 'TSLA', 'MSFT', 'AAPL']\n",
    "#start = time.time()\n",
    "results = []\n",
    "async def get_symbols():\n",
    "    async with aiohttp.ClientSession() as session:\n",
    "        for symbol in symbols:\n",
    "            print('Working on symbol {}'.format(symbol))\n",
    "            response = await session.get(url.format(symbol, api_key),ssl = False)\n",
    "            results.append(await response.json())\n",
    "    \n",
    "await get_symbols()\n",
    "\n",
    "#end = time.time()\n",
    "#print('Time taken: {}'.format(end - start))\n",
    "print(\"you did it\")   "
   ]
  },
  {
   "cell_type": "code",
   "execution_count": 40,
   "metadata": {},
   "outputs": [
    {
     "name": "stdout",
     "output_type": "stream",
     "text": [
      "you did it\n"
     ]
    }
   ],
   "source": [
    "api_key = os.environ.get(\"ALPHAVANTAGE_API_KEY\")\n",
    "url = 'https://www.alphavantage.co/query?function=OVERVIEW&symbol={}&apikey={}'\n",
    "symbols = ['AAPL', 'GOOG', 'TSLA', 'MSFT', 'AAPL', 'GOOG', 'TSLA', 'MSFT', 'AAPL','MSFT', 'AAPL', 'GOOG', 'TSLA', 'MSFT', 'AAPL']\n",
    "#start = time.time()\n",
    "results = []\n",
    "def getTasks(session):\n",
    "    tasks = []\n",
    "    for symbol in symbols:\n",
    "        tasks.append(session.get(url.format(symbol, api_key),ssl = False))\n",
    "    return tasks\n",
    "async def get_symbols():\n",
    "    async with aiohttp.ClientSession() as session:\n",
    "        tasks = getTasks(session)\n",
    "        responses = await asyncio.gather(*tasks)\n",
    "        for response in responses:\n",
    "            results.append(await response.json())\n",
    "    \n",
    "await get_symbols()\n",
    "\n",
    "#end = time.time()\n",
    "#print('Time taken: {}'.format(end - start))\n",
    "print(\"you did it\") "
   ]
  }
 ],
 "metadata": {
  "kernelspec": {
   "display_name": "Python 3.9.9 ('base')",
   "language": "python",
   "name": "python3"
  },
  "language_info": {
   "codemirror_mode": {
    "name": "ipython",
    "version": 3
   },
   "file_extension": ".py",
   "mimetype": "text/x-python",
   "name": "python",
   "nbconvert_exporter": "python",
   "pygments_lexer": "ipython3",
   "version": "3.9.9"
  },
  "orig_nbformat": 4,
  "vscode": {
   "interpreter": {
    "hash": "d36d3edd1bc2448e3409e465e2871e817db2899f9f57c66717f0fd02fb9265a3"
   }
  }
 },
 "nbformat": 4,
 "nbformat_minor": 2
}
